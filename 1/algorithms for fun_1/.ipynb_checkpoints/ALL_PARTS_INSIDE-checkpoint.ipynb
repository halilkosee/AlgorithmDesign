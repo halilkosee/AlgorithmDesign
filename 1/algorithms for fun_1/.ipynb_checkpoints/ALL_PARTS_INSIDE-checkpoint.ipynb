{
 "cells": [
  {
   "cell_type": "code",
   "execution_count": 1,
   "metadata": {},
   "outputs": [
    {
     "name": "stdout",
     "output_type": "stream",
     "text": [
      "1 -> 2 -> 3 -> 4 -> 5 -> 8 -> 6 -> 9 -> 10 -> 7 "
     ]
    }
   ],
   "source": [
    "#PART_1-BFS\n",
    "#Time Complexity: O(Logn)\n",
    "import collections\n",
    "#GRAPH\n",
    "graph = {1: [2,3,4,5,8], 2: [4], 3: [5,6],\n",
    "         4: [5], 5: [6], 6: [7], 7: [8,10],\n",
    "         8: [9,10], 9: [10], 10: []} \n",
    "#BFS FUNCTİON\n",
    "def bfs(graph, root):\n",
    "    inrow=0 #to make output design\n",
    "    path=[] #add path here\n",
    "    seen, queue = set([root]), collections.deque([root])\n",
    "    while queue:\n",
    "        vertex = queue.popleft()\n",
    "        path.append(vertex)\n",
    "        if inrow==0:\n",
    "            print(vertex,end=' ')\n",
    "            inrow=1 #for first \"->\"\n",
    "        else:\n",
    "            print('->',vertex,end=' ')  \n",
    "        for node in graph[vertex]:\n",
    "            if node not in seen:\n",
    "                seen.add(node)\n",
    "                queue.append(node)\n",
    "bfs(graph, 1)\n"
   ]
  },
  {
   "cell_type": "code",
   "execution_count": 2,
   "metadata": {},
   "outputs": [
    {
     "name": "stdout",
     "output_type": "stream",
     "text": [
      "Wellcome to Nim Game\n",
      "Please Enter Game Size\n",
      "1\n",
      "Player One, Enter Your Move  (1- 0 )\n",
      "0\n",
      "The Rest Of Chip Size is :  1\n",
      "THE WINNER IS  ****player Two****\n"
     ]
    }
   ],
   "source": [
    "#Time Complexity: O(nLogn)\n",
    "#FUNCTION\n",
    "#part_2\n",
    "def play():\n",
    "    print(\"Wellcome to Nim Game\")#FOR USER INTERFACE\n",
    "    print(\"Please Enter Game Size\")#FOR USER INTERFACE\n",
    "    n=input()#get input\n",
    "    rest=int(n)#type casting\n",
    "    while rest > 0:#the game continuos\n",
    "        print(\"Player One, Enter Your Move  (1-\",rest-1,\")\")#input range\n",
    "        m=input()\n",
    "        move=int(m)\n",
    "        rest=rest-move#to calculate range of input \n",
    "        print(\"The Rest Of Chip Size is : \",rest)\n",
    "        if rest==1:#if rest is 1 the other player win\n",
    "            winner=\"****player Two****\"\n",
    "            print(\"THE WINNER IS \",winner)\n",
    "            break\n",
    "        print(\"Player Two, Enter Your Move (1-\",rest-1,\")\")\n",
    "        m=input()\n",
    "        move=int(m)\n",
    "        rest=rest-move#to calculate range of input \n",
    "        print(\"The Rest Of Chip Size  is : \",rest)\n",
    "        if rest==1:#if rest is 1 the other player win\n",
    "            winner=\"****player One****\"\n",
    "            print(\"THE WINNER IS \",winner)\n",
    "            break\n",
    "#CALLING FUNCTIION HERE            \n",
    "play()"
   ]
  },
  {
   "cell_type": "code",
   "execution_count": 6,
   "metadata": {},
   "outputs": [
    {
     "ename": "NameError",
     "evalue": "name 'binarySearch' is not defined",
     "output_type": "error",
     "traceback": [
      "\u001b[1;31m---------------------------------------------------------------------------\u001b[0m",
      "\u001b[1;31mNameError\u001b[0m                                 Traceback (most recent call last)",
      "\u001b[1;32m<ipython-input-6-c6f4e7c8ed7b>\u001b[0m in \u001b[0;36m<module>\u001b[1;34m()\u001b[0m\n\u001b[0;32m     20\u001b[0m \u001b[0marr\u001b[0m \u001b[1;33m=\u001b[0m \u001b[1;33m[\u001b[0m\u001b[1;36m1\u001b[0m\u001b[1;33m,\u001b[0m \u001b[1;36m0\u001b[0m\u001b[1;33m,\u001b[0m \u001b[1;36m2\u001b[0m\u001b[1;33m,\u001b[0m \u001b[1;36m10\u001b[0m\u001b[1;33m,\u001b[0m \u001b[1;36m11\u001b[0m\u001b[1;33m,\u001b[0m \u001b[1;36m30\u001b[0m\u001b[1;33m,\u001b[0m \u001b[1;36m50\u001b[0m\u001b[1;33m]\u001b[0m\u001b[1;33m\u001b[0m\u001b[0m\n\u001b[0;32m     21\u001b[0m \u001b[0mn\u001b[0m \u001b[1;33m=\u001b[0m \u001b[0mlen\u001b[0m\u001b[1;33m(\u001b[0m\u001b[0marr\u001b[0m\u001b[1;33m)\u001b[0m\u001b[1;33m\u001b[0m\u001b[0m\n\u001b[1;32m---> 22\u001b[1;33m \u001b[0mprint\u001b[0m\u001b[1;33m(\u001b[0m\u001b[0mstr\u001b[0m\u001b[1;33m(\u001b[0m\u001b[0mbinarySearch\u001b[0m\u001b[1;33m(\u001b[0m\u001b[0marr\u001b[0m\u001b[1;33m,\u001b[0m \u001b[1;36m0\u001b[0m\u001b[1;33m,\u001b[0m \u001b[0mn\u001b[0m\u001b[1;33m-\u001b[0m\u001b[1;36m1\u001b[0m\u001b[1;33m)\u001b[0m\u001b[1;33m)\u001b[0m\u001b[1;33m)\u001b[0m\u001b[1;33m\u001b[0m\u001b[0m\n\u001b[0m",
      "\u001b[1;31mNameError\u001b[0m: name 'binarySearch' is not defined"
     ]
    }
   ],
   "source": [
    "#part 3\n",
    "#Time Complexity: O(Logn)\n",
    "# Python program to check fixed point  \n",
    "def fix(arr, low, high): \n",
    "    if high >= low: \n",
    "        mid = (low + high)//2\n",
    "      \n",
    "    if mid is arr[mid]: \n",
    "        return mid \n",
    "      \n",
    "    if mid > arr[mid]: \n",
    "        return fix(arr, (mid + 1), high) \n",
    "    else: \n",
    "        return fix(arr, low, (mid -1)) \n",
    "      \n",
    "    #if there is no Fixed Point \n",
    "    return -1\n",
    "  \n",
    "#driver part\n",
    "arr = [1, 0, 2, 10, 11, 30, 50] \n",
    "n = len(arr) \n",
    "print(str(fix(arr, 0, n-1))) "
   ]
  },
  {
   "cell_type": "code",
   "execution_count": null,
   "metadata": {},
   "outputs": [],
   "source": [
    "#Time Complexity: O(nLogn)\n",
    "#part_4\n",
    "#FUNCTION\n",
    "def maxCross(arr, l, m, h) : \n",
    "      \n",
    "    # left of mid. \n",
    "    s = 0; left = -10000\n",
    "    for i in range(m, l-1, -1) : \n",
    "        s = s + arr[i] \n",
    "          \n",
    "        if (s > left) : \n",
    "            left = s \n",
    "    \n",
    "    # right of mid \n",
    "    s = 0; right = -1000\n",
    "    for i in range(m + 1, h + 1) : \n",
    "        s = s + arr[i] \n",
    "          \n",
    "        if (s > right) : \n",
    "            right = s \n",
    "      \n",
    "    # left and right of mid \n",
    "    return left + right; \n",
    "  \n",
    "def maxSum(arr, l, h) : \n",
    "      \n",
    "    # Base Case: Only one element \n",
    "    if (l == h) : \n",
    "        return arr[l] \n",
    "  \n",
    "    # Find middle point \n",
    "    m = (l + h) // 2\n",
    "    \n",
    "    return max(maxSum(arr, l, m), # sum in left half \n",
    "               maxSum(arr, m+1, h),  # sum in right half \n",
    "               maxCross(arr, l, m, h))   # subarray crosses the midpoint\n",
    "                                               \n",
    " # Driver part \n",
    "arr = [1, -3, 5, -1, 7] \n",
    "n = len(arr) \n",
    "  \n",
    "mx = maxSum(arr, 0, n-1) \n",
    "print( mx)"
   ]
  },
  {
   "cell_type": "code",
   "execution_count": 5,
   "metadata": {},
   "outputs": [
    {
     "name": "stdout",
     "output_type": "stream",
     "text": [
      "ABCDAB\n"
     ]
    }
   ],
   "source": [
    "#PART_5\n",
    "def pattern(string):\n",
    "    vovel=0\n",
    "    for i in string:\n",
    "        if i=='a':\n",
    "            (string[(string.index(i))])\n",
    "            vovel+=1\n",
    "            \n",
    "        elif i=='e':\n",
    "            (string[(string.index(i))])\n",
    "            vovel+=1\n",
    "            \n",
    "       \n",
    "        elif i=='i':\n",
    "            (string[(string.index(i))])\n",
    "            vovel+=1\n",
    "            \n",
    "       \n",
    "        elif i=='u':\n",
    "            (string[(string.index(i))])\n",
    "            vovel+=1\n",
    "           \n",
    "        \n",
    "        elif i=='o':\n",
    "            (string[(string.index(i))])\n",
    "            vovel+=1\n",
    "            \n",
    "            \n",
    "    output=(string.replace (string[0:2], \"A\"))\n",
    "    output=(output.replace (output[1:3], \"B\"))\n",
    "    output=(output.replace (output[2:4], \"C\"))\n",
    "    output=(output.replace (output[3:6], \"D\"))\n",
    "    print (output)\n",
    "pattern(\"tobeornottobe\")"
   ]
  },
  {
   "cell_type": "code",
   "execution_count": null,
   "metadata": {},
   "outputs": [],
   "source": []
  }
 ],
 "metadata": {
  "kernelspec": {
   "display_name": "Python 3",
   "language": "python",
   "name": "python3"
  },
  "language_info": {
   "codemirror_mode": {
    "name": "ipython",
    "version": 3
   },
   "file_extension": ".py",
   "mimetype": "text/x-python",
   "name": "python",
   "nbconvert_exporter": "python",
   "pygments_lexer": "ipython3",
   "version": "3.7.0"
  }
 },
 "nbformat": 4,
 "nbformat_minor": 2
}
