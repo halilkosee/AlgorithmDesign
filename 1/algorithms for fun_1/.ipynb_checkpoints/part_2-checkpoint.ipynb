{
 "cells": [
  {
   "cell_type": "code",
   "execution_count": null,
   "metadata": {},
   "outputs": [],
   "source": [
    "#Time Complexity: O(nLogn)\n",
    "#FUNCTION\n",
    "def play():\n",
    "    print(\"Wellcome to Nim Game\")#FOR USER INTERFACE\n",
    "    print(\"Please Enter Game Size\")#FOR USER INTERFACE\n",
    "    n=input()#get input\n",
    "    rest=int(n)#type casting\n",
    "    while rest > 0:#the game continuos\n",
    "        print(\"Player One, Enter Your Move  (1-\",rest-1,\")\")#input range\n",
    "        m=input()\n",
    "        move=int(m)\n",
    "        rest=rest-move#to calculate range of input \n",
    "        print(\"The Rest Of Chip Size is : \",rest)\n",
    "        if rest==1:#if rest is 1 the other player win\n",
    "            winner=\"****player Two****\"\n",
    "            print(\"THE WINNER IS \",winner)\n",
    "            break\n",
    "        print(\"Player Two, Enter Your Move (1-\",rest-1,\")\")\n",
    "        m=input()\n",
    "        move=int(m)\n",
    "        rest=rest-move#to calculate range of input \n",
    "        print(\"The Rest Of Chip Size  is : \",rest)\n",
    "        if rest==1:#if rest is 1 the other player win\n",
    "            winner=\"****player One****\"\n",
    "            print(\"THE WINNER IS \",winner)\n",
    "            break\n",
    "#CALLING FUNCTIION HERE            \n",
    "play()"
   ]
  },
  {
   "cell_type": "code",
   "execution_count": null,
   "metadata": {},
   "outputs": [],
   "source": []
  }
 ],
 "metadata": {
  "kernelspec": {
   "display_name": "Python 3",
   "language": "python",
   "name": "python3"
  },
  "language_info": {
   "codemirror_mode": {
    "name": "ipython",
    "version": 3
   },
   "file_extension": ".py",
   "mimetype": "text/x-python",
   "name": "python",
   "nbconvert_exporter": "python",
   "pygments_lexer": "ipython3",
   "version": "3.7.0"
  }
 },
 "nbformat": 4,
 "nbformat_minor": 2
}
