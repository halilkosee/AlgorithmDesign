{
 "cells": [
  {
   "cell_type": "code",
   "execution_count": 17,
   "metadata": {},
   "outputs": [
    {
     "name": "stdout",
     "output_type": "stream",
     "text": [
      "11\n"
     ]
    }
   ],
   "source": [
    "#Time Complexity: O(nLogn)\n",
    "#part_4\n",
    "#FUNCTION\n",
    "def maxCross(arr, l, m, h) : \n",
    "      \n",
    "    # left of mid. \n",
    "    s = 0; left = -10000\n",
    "    for i in range(m, l-1, -1) : \n",
    "        s = s + arr[i] \n",
    "          \n",
    "        if (s > left) : \n",
    "            left = s \n",
    "    \n",
    "    # right of mid \n",
    "    s = 0; right = -1000\n",
    "    for i in range(m + 1, h + 1) : \n",
    "        s = s + arr[i] \n",
    "          \n",
    "        if (s > right) : \n",
    "            right = s \n",
    "      \n",
    "    # left and right of mid \n",
    "    return left + right; \n",
    "  \n",
    "def maxSum(arr, l, h) : \n",
    "      \n",
    "    # Base Case: Only one element \n",
    "    if (l == h) : \n",
    "        return arr[l] \n",
    "  \n",
    "    # Find middle point \n",
    "    m = (l + h) // 2\n",
    "    \n",
    "    return max(maxSum(arr, l, m), # sum in left half \n",
    "               maxSum(arr, m+1, h),  # sum in right half \n",
    "               maxCross(arr, l, m, h))   # subarray crosses the midpoint\n",
    "                                               \n",
    " # Driver part \n",
    "arr = [1, -3, 5, -1, 7] \n",
    "n = len(arr) \n",
    "  \n",
    "mx = maxSum(arr, 0, n-1) \n",
    "print( mx) "
   ]
  },
  {
   "cell_type": "code",
   "execution_count": null,
   "metadata": {},
   "outputs": [],
   "source": []
  },
  {
   "cell_type": "code",
   "execution_count": null,
   "metadata": {},
   "outputs": [],
   "source": []
  }
 ],
 "metadata": {
  "kernelspec": {
   "display_name": "Python 3",
   "language": "python",
   "name": "python3"
  },
  "language_info": {
   "codemirror_mode": {
    "name": "ipython",
    "version": 3
   },
   "file_extension": ".py",
   "mimetype": "text/x-python",
   "name": "python",
   "nbconvert_exporter": "python",
   "pygments_lexer": "ipython3",
   "version": "3.7.0"
  }
 },
 "nbformat": 4,
 "nbformat_minor": 2
}
