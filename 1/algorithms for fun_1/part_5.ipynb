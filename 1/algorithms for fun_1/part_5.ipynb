{
 "cells": [
  {
   "cell_type": "code",
   "execution_count": 1,
   "metadata": {},
   "outputs": [
    {
     "name": "stdout",
     "output_type": "stream",
     "text": [
      "o\n",
      "e\n",
      "o\n",
      "o\n",
      "o\n",
      "e\n",
      "ABCDAB\n",
      "6\n"
     ]
    }
   ],
   "source": [
    "def pattern(string):\n",
    "    vovel=0\n",
    "    for i in string:\n",
    "        if i=='a':\n",
    "            print(string[(string.index(i))])\n",
    "            vovel+=1\n",
    "            \n",
    "        elif i=='e':\n",
    "            print(string[(string.index(i))])\n",
    "            vovel+=1\n",
    "            \n",
    "       \n",
    "        elif i=='i':\n",
    "            print(string[(string.index(i))])\n",
    "            vovel+=1\n",
    "            \n",
    "       \n",
    "        elif i=='u':\n",
    "            print(string[(string.index(i))])\n",
    "            vovel+=1\n",
    "           \n",
    "        \n",
    "        elif i=='o':\n",
    "            print(string[(string.index(i))])\n",
    "            vovel+=1\n",
    "            \n",
    "            \n",
    "    output=(string.replace (string[0:2], \"A\"))\n",
    "    output=(output.replace (output[1:3], \"B\"))\n",
    "    output=(output.replace (output[2:4], \"C\"))\n",
    "    output=(output.replace (output[3:6], \"D\"))\n",
    "    print (output)\n",
    "    print(vovel)\n",
    "    \n",
    "pattern(\"tobeornottobe\")\n"
   ]
  },
  {
   "cell_type": "code",
   "execution_count": null,
   "metadata": {},
   "outputs": [],
   "source": []
  }
 ],
 "metadata": {
  "kernelspec": {
   "display_name": "Python 3",
   "language": "python",
   "name": "python3"
  },
  "language_info": {
   "codemirror_mode": {
    "name": "ipython",
    "version": 3
   },
   "file_extension": ".py",
   "mimetype": "text/x-python",
   "name": "python",
   "nbconvert_exporter": "python",
   "pygments_lexer": "ipython3",
   "version": "3.7.0"
  }
 },
 "nbformat": 4,
 "nbformat_minor": 2
}
