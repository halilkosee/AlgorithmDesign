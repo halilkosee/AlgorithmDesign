{
 "cells": [
  {
   "cell_type": "code",
   "execution_count": 1,
   "metadata": {},
   "outputs": [
    {
     "name": "stdout",
     "output_type": "stream",
     "text": [
      "1 -> 2 -> 3 -> 4 -> 5 -> 8 -> 6 -> 9 -> 10 -> 7 "
     ]
    }
   ],
   "source": [
    "#PART_1-BFS\n",
    "#Time Complexity: O(Logn)\n",
    "import collections\n",
    "#GRAPH\n",
    "graph = {1: [2,3,4,5,8], 2: [4], 3: [5,6],\n",
    "         4: [5], 5: [6], 6: [7], 7: [8,10],\n",
    "         8: [9,10], 9: [10], 10: []} \n",
    "#BFS FUNCTİON\n",
    "def bfs(graph, root):\n",
    "    inrow=0 #to make output design\n",
    "    path=[] #add path here\n",
    "    seen, queue = set([root]), collections.deque([root])\n",
    "    while queue:\n",
    "        vertex = queue.popleft()\n",
    "        path.append(vertex)\n",
    "        if inrow==0:\n",
    "            print(vertex,end=' ')\n",
    "            inrow=1 #for first \"->\"\n",
    "        else:\n",
    "            print('->',vertex,end=' ')  \n",
    "        for node in graph[vertex]:\n",
    "            if node not in seen:\n",
    "                seen.add(node)\n",
    "                queue.append(node)\n",
    "bfs(graph, 1)\n",
    "\n"
   ]
  },
  {
   "cell_type": "code",
   "execution_count": null,
   "metadata": {},
   "outputs": [],
   "source": []
  }
 ],
 "metadata": {
  "kernelspec": {
   "display_name": "Python 3",
   "language": "python",
   "name": "python3"
  },
  "language_info": {
   "codemirror_mode": {
    "name": "ipython",
    "version": 3
   },
   "file_extension": ".py",
   "mimetype": "text/x-python",
   "name": "python",
   "nbconvert_exporter": "python",
   "pygments_lexer": "ipython3",
   "version": "3.7.0"
  }
 },
 "nbformat": 4,
 "nbformat_minor": 2
}
