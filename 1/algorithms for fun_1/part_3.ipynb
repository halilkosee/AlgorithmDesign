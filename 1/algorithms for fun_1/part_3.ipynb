{
 "cells": [
  {
   "cell_type": "code",
   "execution_count": 2,
   "metadata": {},
   "outputs": [
    {
     "name": "stdout",
     "output_type": "stream",
     "text": [
      "2\n"
     ]
    }
   ],
   "source": [
    "#part 3\n",
    "#Time Complexity: O(Logn)\n",
    "# Python program to check fixed point  \n",
    "def fix(arr, low, high): \n",
    "    if high >= low: \n",
    "        mid = (low + high)//2\n",
    "      \n",
    "    if mid is arr[mid]: \n",
    "        return mid \n",
    "      \n",
    "    if mid > arr[mid]: \n",
    "        return fix(arr, (mid + 1), high) \n",
    "    else: \n",
    "        return fix(arr, low, (mid -1)) \n",
    "      \n",
    "    #if there is no Fixed Point \n",
    "    return -1\n",
    "  \n",
    "#driver part\n",
    "arr = [1, 0, 2, 10, 11, 30, 50] \n",
    "n = len(arr) \n",
    "print(str(fix(arr, 0, n-1))) "
   ]
  },
  {
   "cell_type": "code",
   "execution_count": null,
   "metadata": {},
   "outputs": [],
   "source": []
  },
  {
   "cell_type": "code",
   "execution_count": null,
   "metadata": {},
   "outputs": [],
   "source": []
  }
 ],
 "metadata": {
  "kernelspec": {
   "display_name": "Python 3",
   "language": "python",
   "name": "python3"
  }
 },
 "nbformat": 4,
 "nbformat_minor": 2
}
